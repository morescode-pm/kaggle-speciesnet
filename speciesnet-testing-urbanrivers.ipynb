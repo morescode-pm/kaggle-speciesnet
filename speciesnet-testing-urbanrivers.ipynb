{
 "cells": [
  {
   "cell_type": "markdown",
   "id": "e31d5f30",
   "metadata": {
    "papermill": {
     "duration": 0.004726,
     "end_time": "2025-05-24T00:53:04.424437",
     "exception": false,
     "start_time": "2025-05-24T00:53:04.419711",
     "status": "completed"
    },
    "tags": []
   },
   "source": [
    "# Introduction\n",
    "Urban Rivers is a conservation organization helping to restore the Chicago River.  \n",
    "\n",
    "Part of the project involves tracking changes in biodiversity attributable to the installation of floating wetlands.  \n",
    "Volunteers have placed and maintain motion detection cameras (camera traps) along installations, natural river banks, and the existing metal retaining walls on the water way.\n",
    "\n",
    "These pictures are available on s3 - this code investigates downloading a portion of those images for testing with SpeciesNet.\n",
    "\n",
    "This workbook was used for detections using Kaggle's GPUs and is linked therein.  \n",
    "https://www.kaggle.com/code/morescope/speciesnet-testing-urbanrivers"
   ]
  },
  {
   "cell_type": "markdown",
   "id": "743a6a07",
   "metadata": {
    "papermill": {
     "duration": 0.003196,
     "end_time": "2025-05-24T00:53:04.431286",
     "exception": false,
     "start_time": "2025-05-24T00:53:04.428090",
     "status": "completed"
    },
    "tags": []
   },
   "source": [
    "## Notebook Setup and Required Packages"
   ]
  },
  {
   "cell_type": "code",
   "execution_count": 1,
   "id": "57415a74",
   "metadata": {
    "execution": {
     "iopub.execute_input": "2025-05-24T00:53:04.439050Z",
     "iopub.status.busy": "2025-05-24T00:53:04.438765Z",
     "iopub.status.idle": "2025-05-24T00:55:36.514012Z",
     "shell.execute_reply": "2025-05-24T00:55:36.513313Z"
    },
    "papermill": {
     "duration": 152.081131,
     "end_time": "2025-05-24T00:55:36.515810",
     "exception": false,
     "start_time": "2025-05-24T00:53:04.434679",
     "status": "completed"
    },
    "tags": []
   },
   "outputs": [
    {
     "name": "stdout",
     "output_type": "stream",
     "text": [
      "\u001b[2K     \u001b[90m━━━━━━━━━━━━━━━━━━━━━━━━━━━━━━━━━━━━━━━━\u001b[0m \u001b[32m43.3/43.3 kB\u001b[0m \u001b[31m2.6 MB/s\u001b[0m eta \u001b[36m0:00:00\u001b[0m\r\n",
      "\u001b[2K     \u001b[90m━━━━━━━━━━━━━━━━━━━━━━━━━━━━━━━━━━━━━━━━\u001b[0m \u001b[32m2.2/2.2 MB\u001b[0m \u001b[31m46.9 MB/s\u001b[0m eta \u001b[36m0:00:00\u001b[0m\r\n",
      "\u001b[?25h  Preparing metadata (setup.py) ... \u001b[?25l\u001b[?25hdone\r\n",
      "  Preparing metadata (setup.py) ... \u001b[?25l\u001b[?25hdone\r\n",
      "\u001b[2K     \u001b[90m━━━━━━━━━━━━━━━━━━━━━━━━━━━━━━━━━━━━━━━━\u001b[0m \u001b[32m87.2/87.2 kB\u001b[0m \u001b[31m6.1 MB/s\u001b[0m eta \u001b[36m0:00:00\u001b[0m\r\n",
      "\u001b[?25h  Preparing metadata (setup.py) ... \u001b[?25l\u001b[?25hdone\r\n",
      "\u001b[2K   \u001b[90m━━━━━━━━━━━━━━━━━━━━━━━━━━━━━━━━━━━━━━━━\u001b[0m \u001b[32m93.7/93.7 kB\u001b[0m \u001b[31m4.1 MB/s\u001b[0m eta \u001b[36m0:00:00\u001b[0m\r\n",
      "\u001b[2K   \u001b[90m━━━━━━━━━━━━━━━━━━━━━━━━━━━━━━━━━━━━━━━━\u001b[0m \u001b[32m791.3/791.3 kB\u001b[0m \u001b[31m10.5 MB/s\u001b[0m eta \u001b[36m0:00:00\u001b[0m\r\n",
      "\u001b[2K   \u001b[90m━━━━━━━━━━━━━━━━━━━━━━━━━━━━━━━━━━━━━━━━\u001b[0m \u001b[32m86.8/86.8 kB\u001b[0m \u001b[31m5.9 MB/s\u001b[0m eta \u001b[36m0:00:00\u001b[0m\r\n",
      "\u001b[2K   \u001b[90m━━━━━━━━━━━━━━━━━━━━━━━━━━━━━━━━━━━━━━━━\u001b[0m \u001b[32m8.6/8.6 MB\u001b[0m \u001b[31m99.9 MB/s\u001b[0m eta \u001b[36m0:00:00\u001b[0m\r\n",
      "\u001b[2K   \u001b[90m━━━━━━━━━━━━━━━━━━━━━━━━━━━━━━━━━━━━━━━━\u001b[0m \u001b[32m13.5/13.5 MB\u001b[0m \u001b[31m98.5 MB/s\u001b[0m eta \u001b[36m0:00:00\u001b[0m\r\n",
      "\u001b[2K   \u001b[90m━━━━━━━━━━━━━━━━━━━━━━━━━━━━━━━━━━━━━━━━\u001b[0m \u001b[32m363.4/363.4 MB\u001b[0m \u001b[31m4.5 MB/s\u001b[0m eta \u001b[36m0:00:00\u001b[0m\r\n",
      "\u001b[2K   \u001b[90m━━━━━━━━━━━━━━━━━━━━━━━━━━━━━━━━━━━━━━━━\u001b[0m \u001b[32m664.8/664.8 MB\u001b[0m \u001b[31m2.5 MB/s\u001b[0m eta \u001b[36m0:00:00\u001b[0m\r\n",
      "\u001b[2K   \u001b[90m━━━━━━━━━━━━━━━━━━━━━━━━━━━━━━━━━━━━━━━━\u001b[0m \u001b[32m211.5/211.5 MB\u001b[0m \u001b[31m6.1 MB/s\u001b[0m eta \u001b[36m0:00:00\u001b[0m\r\n",
      "\u001b[2K   \u001b[90m━━━━━━━━━━━━━━━━━━━━━━━━━━━━━━━━━━━━━━━━\u001b[0m \u001b[32m56.3/56.3 MB\u001b[0m \u001b[31m29.4 MB/s\u001b[0m eta \u001b[36m0:00:00\u001b[0m\r\n",
      "\u001b[2K   \u001b[90m━━━━━━━━━━━━━━━━━━━━━━━━━━━━━━━━━━━━━━━━\u001b[0m \u001b[32m127.9/127.9 MB\u001b[0m \u001b[31m12.7 MB/s\u001b[0m eta \u001b[36m0:00:00\u001b[0m\r\n",
      "\u001b[2K   \u001b[90m━━━━━━━━━━━━━━━━━━━━━━━━━━━━━━━━━━━━━━━━\u001b[0m \u001b[32m207.5/207.5 MB\u001b[0m \u001b[31m2.0 MB/s\u001b[0m eta \u001b[36m0:00:00\u001b[0m\r\n",
      "\u001b[2K   \u001b[90m━━━━━━━━━━━━━━━━━━━━━━━━━━━━━━━━━━━━━━━━\u001b[0m \u001b[32m21.1/21.1 MB\u001b[0m \u001b[31m80.5 MB/s\u001b[0m eta \u001b[36m0:00:00\u001b[0m\r\n",
      "\u001b[2K   \u001b[90m━━━━━━━━━━━━━━━━━━━━━━━━━━━━━━━━━━━━━━━━\u001b[0m \u001b[32m956.3/956.3 kB\u001b[0m \u001b[31m43.5 MB/s\u001b[0m eta \u001b[36m0:00:00\u001b[0m\r\n",
      "\u001b[2K   \u001b[90m━━━━━━━━━━━━━━━━━━━━━━━━━━━━━━━━━━━━━━━━\u001b[0m \u001b[32m81.0/81.0 kB\u001b[0m \u001b[31m5.2 MB/s\u001b[0m eta \u001b[36m0:00:00\u001b[0m\r\n",
      "\u001b[2K   \u001b[90m━━━━━━━━━━━━━━━━━━━━━━━━━━━━━━━━━━━━━━━━\u001b[0m \u001b[32m85.4/85.4 kB\u001b[0m \u001b[31m4.4 MB/s\u001b[0m eta \u001b[36m0:00:00\u001b[0m\r\n",
      "\u001b[2K   \u001b[90m━━━━━━━━━━━━━━━━━━━━━━━━━━━━━━━━━━━━━━━━\u001b[0m \u001b[32m66.8/66.8 kB\u001b[0m \u001b[31m3.7 MB/s\u001b[0m eta \u001b[36m0:00:00\u001b[0m\r\n",
      "\u001b[2K   \u001b[90m━━━━━━━━━━━━━━━━━━━━━━━━━━━━━━━━━━━━━━━━\u001b[0m \u001b[32m49.9/49.9 MB\u001b[0m \u001b[31m33.9 MB/s\u001b[0m eta \u001b[36m0:00:00\u001b[0m\r\n",
      "\u001b[2K   \u001b[90m━━━━━━━━━━━━━━━━━━━━━━━━━━━━━━━━━━━━━━━━\u001b[0m \u001b[32m114.7/114.7 kB\u001b[0m \u001b[31m6.8 MB/s\u001b[0m eta \u001b[36m0:00:00\u001b[0m\r\n",
      "\u001b[2K   \u001b[90m━━━━━━━━━━━━━━━━━━━━━━━━━━━━━━━━━━━━━━━━\u001b[0m \u001b[32m62.5/62.5 MB\u001b[0m \u001b[31m27.1 MB/s\u001b[0m eta \u001b[36m0:00:00\u001b[0m\r\n",
      "\u001b[2K   \u001b[90m━━━━━━━━━━━━━━━━━━━━━━━━━━━━━━━━━━━━━━━━\u001b[0m \u001b[32m7.8/7.8 MB\u001b[0m \u001b[31m95.1 MB/s\u001b[0m eta \u001b[36m0:00:00\u001b[0m\r\n",
      "\u001b[?25h  Building wheel for pyqtree (setup.py) ... \u001b[?25l\u001b[?25hdone\r\n",
      "  Building wheel for reverse_geocoder (setup.py) ... \u001b[?25l\u001b[?25hdone\r\n",
      "  Building wheel for fire (setup.py) ... \u001b[?25l\u001b[?25hdone\r\n",
      "\u001b[31mERROR: pip's dependency resolver does not currently take into account all the packages that are installed. This behaviour is the source of the following dependency conflicts.\r\n",
      "datasets 3.6.0 requires fsspec[http]<=2025.3.0,>=2023.1.0, but you have fsspec 2025.3.2 which is incompatible.\r\n",
      "ydata-profiling 4.16.1 requires matplotlib<=3.10,>=3.5, but you have matplotlib 3.10.3 which is incompatible.\r\n",
      "category-encoders 2.7.0 requires scikit-learn<1.6.0,>=1.0.0, but you have scikit-learn 1.6.1 which is incompatible.\r\n",
      "cesium 0.12.4 requires numpy<3.0,>=2.0, but you have numpy 1.26.4 which is incompatible.\r\n",
      "google-colab 1.0.0 requires google-auth==2.38.0, but you have google-auth 2.40.1 which is incompatible.\r\n",
      "google-colab 1.0.0 requires notebook==6.5.7, but you have notebook 6.5.4 which is incompatible.\r\n",
      "google-colab 1.0.0 requires pandas==2.2.2, but you have pandas 2.2.3 which is incompatible.\r\n",
      "dopamine-rl 4.1.2 requires gymnasium>=1.0.0, but you have gymnasium 0.29.0 which is incompatible.\r\n",
      "bigframes 1.42.0 requires rich<14,>=12.4.4, but you have rich 14.0.0 which is incompatible.\r\n",
      "google-spark-connect 0.5.2 requires google-api-core>=2.19.1, but you have google-api-core 1.34.1 which is incompatible.\r\n",
      "google-cloud-bigtable 2.30.0 requires google-api-core[grpc]<3.0.0,>=2.16.0, but you have google-api-core 1.34.1 which is incompatible.\r\n",
      "google-cloud-storage 2.19.0 requires google-api-core<3.0.0dev,>=2.15.0, but you have google-api-core 1.34.1 which is incompatible.\r\n",
      "pandas-gbq 0.28.0 requires google-api-core<3.0.0dev,>=2.10.2, but you have google-api-core 1.34.1 which is incompatible.\u001b[0m\u001b[31m\r\n",
      "\u001b[0m"
     ]
    }
   ],
   "source": [
    "# Data Handling\n",
    "import pandas as pd\n",
    "import numpy as np\n",
    "\n",
    "# IO - getting files and images from MongoDB and S3\n",
    "from pymongo import MongoClient\n",
    "from kaggle_secrets import UserSecretsClient\n",
    "import requests\n",
    "\n",
    "from concurrent.futures import ThreadPoolExecutor\n",
    "\n",
    "from pathlib import Path\n",
    "from PIL import Image\n",
    "from io import BytesIO\n",
    "\n",
    "import os\n",
    "import re\n",
    "import shutil\n",
    "import json\n",
    "import time\n",
    "\n",
    "# Install speciesnet and related megadetector libraries\n",
    "!pip install -Uqq speciesnet megadetector-utils\n",
    "\n",
    "from IPython.display import display\n",
    "from IPython.display import JSON\n",
    "\n",
    "from speciesnet import SpeciesNet\n",
    "import kagglehub\n",
    "\n"
   ]
  },
  {
   "cell_type": "code",
   "execution_count": 2,
   "id": "4b8194c0",
   "metadata": {
    "execution": {
     "iopub.execute_input": "2025-05-24T00:55:36.570727Z",
     "iopub.status.busy": "2025-05-24T00:55:36.569917Z",
     "iopub.status.idle": "2025-05-24T00:55:54.582413Z",
     "shell.execute_reply": "2025-05-24T00:55:54.581568Z"
    },
    "papermill": {
     "duration": 18.040321,
     "end_time": "2025-05-24T00:55:54.583930",
     "exception": false,
     "start_time": "2025-05-24T00:55:36.543609",
     "status": "completed"
    },
    "tags": []
   },
   "outputs": [
    {
     "name": "stdout",
     "output_type": "stream",
     "text": [
      "*** Running Torch tests ***\r\n",
      "\r\n",
      "Torch version: 2.6.0+cu124\r\n",
      "CUDA available (according to PyTorch): True\r\n",
      "CUDA version (according to PyTorch): 12.4\r\n",
      "CuDNN version (according to PyTorch): 90100\r\n",
      "Found 1 CUDA devices:\r\n",
      "0: Tesla P100-PCIE-16GB\r\n"
     ]
    }
   ],
   "source": [
    "# Run a quick check to see if the GPU is being used\n",
    "!python -m speciesnet.scripts.gpu_test"
   ]
  },
  {
   "cell_type": "code",
   "execution_count": 3,
   "id": "ede9fe92",
   "metadata": {
    "execution": {
     "iopub.execute_input": "2025-05-24T00:55:54.638438Z",
     "iopub.status.busy": "2025-05-24T00:55:54.637803Z",
     "iopub.status.idle": "2025-05-24T00:55:54.643372Z",
     "shell.execute_reply": "2025-05-24T00:55:54.642697Z"
    },
    "papermill": {
     "duration": 0.033987,
     "end_time": "2025-05-24T00:55:54.644658",
     "exception": false,
     "start_time": "2025-05-24T00:55:54.610671",
     "status": "completed"
    },
    "tags": []
   },
   "outputs": [],
   "source": [
    "# Configuration for Multithreading and Batching\n",
    "num_batches = 10\n",
    "max_threads = 8\n",
    "output_root = Path(\"output\")\n",
    "\n",
    "# Prepare folders\n",
    "output_root.mkdir(exist_ok=True)\n",
    "images_root = Path(\"images\")\n",
    "images_root.mkdir(exist_ok=True)"
   ]
  },
  {
   "cell_type": "markdown",
   "id": "86e0b916",
   "metadata": {
    "papermill": {
     "duration": 0.026391,
     "end_time": "2025-05-24T00:55:54.697475",
     "exception": false,
     "start_time": "2025-05-24T00:55:54.671084",
     "status": "completed"
    },
    "tags": []
   },
   "source": [
    "## Access The URIs from S3 through MongoDB"
   ]
  },
  {
   "cell_type": "code",
   "execution_count": 4,
   "id": "edfb3877",
   "metadata": {
    "execution": {
     "iopub.execute_input": "2025-05-24T00:55:54.751469Z",
     "iopub.status.busy": "2025-05-24T00:55:54.750839Z",
     "iopub.status.idle": "2025-05-24T00:56:00.620141Z",
     "shell.execute_reply": "2025-05-24T00:56:00.619469Z"
    },
    "papermill": {
     "duration": 5.898223,
     "end_time": "2025-05-24T00:56:00.621835",
     "exception": false,
     "start_time": "2025-05-24T00:55:54.723612",
     "status": "completed"
    },
    "tags": []
   },
   "outputs": [],
   "source": [
    "# Get the stored mongo uri secret\n",
    "user_secrets = UserSecretsClient()\n",
    "mongo_uri = user_secrets.get_secret(\"MONGO_URI\")\n",
    "\n",
    "# Connect to the MongoDB client\n",
    "client = MongoClient(mongo_uri)\n",
    " \n",
    "# Access the database and collection\n",
    "db = client['test']\n",
    "collection = db['cameratrapmedias'] \n",
    " \n",
    "# Query the collection to retrieve records with image URLs, metadata, and the first index of 'relativePath'\n",
    "data = list(collection.aggregate([\n",
    "    {\n",
    "        '$project': {\n",
    "            '_id': 0,\n",
    "            'publicURL': 1,\n",
    "            'timestamp': 1,\n",
    "            'folderName': { '$arrayElemAt': ['$relativePath', 1] },\n",
    "            'fileName': 1\n",
    "        }\n",
    "    },\n",
    "    # { '$limit': 150 }\n",
    "]))\n",
    " \n",
    "# Convert the data to a pandas DataFrame for exploration\n",
    "df = pd.DataFrame(data)\n",
    "\n",
    "# Export the small array to a CSV file for preview\n",
    "df.to_csv('ur_test_medias.csv', index=False)"
   ]
  },
  {
   "cell_type": "markdown",
   "id": "308c126a",
   "metadata": {
    "papermill": {
     "duration": 0.026433,
     "end_time": "2025-05-24T00:56:00.675083",
     "exception": false,
     "start_time": "2025-05-24T00:56:00.648650",
     "status": "completed"
    },
    "tags": []
   },
   "source": [
    "## We are going to create a column that creates a file name to save the image"
   ]
  },
  {
   "cell_type": "code",
   "execution_count": 5,
   "id": "f4764100",
   "metadata": {
    "execution": {
     "iopub.execute_input": "2025-05-24T00:56:00.786555Z",
     "iopub.status.busy": "2025-05-24T00:56:00.785850Z",
     "iopub.status.idle": "2025-05-24T00:56:01.098044Z",
     "shell.execute_reply": "2025-05-24T00:56:01.097289Z"
    },
    "papermill": {
     "duration": 0.397521,
     "end_time": "2025-05-24T00:56:01.099342",
     "exception": false,
     "start_time": "2025-05-24T00:56:00.701821",
     "status": "completed"
    },
    "tags": []
   },
   "outputs": [
    {
     "name": "stdout",
     "output_type": "stream",
     "text": [
      "            timestamp                                          publicURL  \\\n",
      "0 2024-01-27 13:33:15  https://urbanriverrangers.s3.amazonaws.com/ima...   \n",
      "1 2024-01-24 18:56:50  https://urbanriverrangers.s3.amazonaws.com/ima...   \n",
      "2 2024-01-24 19:01:54  https://urbanriverrangers.s3.amazonaws.com/ima...   \n",
      "3 2024-01-24 19:03:05  https://urbanriverrangers.s3.amazonaws.com/ima...   \n",
      "4 2024-01-24 19:04:19  https://urbanriverrangers.s3.amazonaws.com/ima...   \n",
      "\n",
      "       fileName                               folderName  \\\n",
      "0  SYFW0060.JPG                   2024-01-30_prologis_02   \n",
      "1  SYFW0001.JPG  2024-01-30_Learnin_platform_camera_test   \n",
      "2  SYFW0002.JPG  2024-01-30_Learnin_platform_camera_test   \n",
      "3  SYFW0004.JPG  2024-01-30_Learnin_platform_camera_test   \n",
      "4  SYFW0006.JPG  2024-01-30_Learnin_platform_camera_test   \n",
      "\n",
      "                                           imageName  \n",
      "0               2024-01-30_prologis_02--SYFW0060.JPG  \n",
      "1  2024-01-30_Learnin_platform_camera_test--SYFW0...  \n",
      "2  2024-01-30_Learnin_platform_camera_test--SYFW0...  \n",
      "3  2024-01-30_Learnin_platform_camera_test--SYFW0...  \n",
      "4  2024-01-30_Learnin_platform_camera_test--SYFW0...  \n"
     ]
    }
   ],
   "source": [
    "# This function will format the final string\n",
    "def make_filename(s):\n",
    "    # s = s.lower()\n",
    "    s = re.sub(r'[^\\w\\s.-]', '', s) # remove special characters except dash or underscore or period\n",
    "    s = re.sub(r'\\s+', '_', s) # replace whitespace with underscore\n",
    "    return s\n",
    "\n",
    "# Combine the relative path second (folder name) + fileName\n",
    "df['imageName'] = df['folderName'] + '--' + df['fileName']\n",
    "df['imageName'] = df['imageName'].apply(make_filename)\n",
    "\n",
    "print(df.head())"
   ]
  },
  {
   "cell_type": "markdown",
   "id": "35a3517d",
   "metadata": {
    "papermill": {
     "duration": 0.026093,
     "end_time": "2025-05-24T00:56:01.152441",
     "exception": false,
     "start_time": "2025-05-24T00:56:01.126348",
     "status": "completed"
    },
    "tags": []
   },
   "source": [
    "Now that we have a connection to the MongoDB server and access to the URLs, let's use the download images."
   ]
  },
  {
   "cell_type": "markdown",
   "id": "0dc59731",
   "metadata": {
    "papermill": {
     "duration": 0.02615,
     "end_time": "2025-05-24T00:56:01.205784",
     "exception": false,
     "start_time": "2025-05-24T00:56:01.179634",
     "status": "completed"
    },
    "tags": []
   },
   "source": [
    "## Download Images"
   ]
  },
  {
   "cell_type": "code",
   "execution_count": 6,
   "id": "453e6eb9",
   "metadata": {
    "_kg_hide-output": true,
    "execution": {
     "iopub.execute_input": "2025-05-24T00:56:01.260071Z",
     "iopub.status.busy": "2025-05-24T00:56:01.259310Z",
     "iopub.status.idle": "2025-05-24T02:48:11.281888Z",
     "shell.execute_reply": "2025-05-24T02:48:11.280943Z"
    },
    "papermill": {
     "duration": 6730.075491,
     "end_time": "2025-05-24T02:48:11.308063",
     "exception": false,
     "start_time": "2025-05-24T00:56:01.232572",
     "status": "completed"
    },
    "tags": []
   },
   "outputs": [
    {
     "name": "stdout",
     "output_type": "stream",
     "text": [
      "Processing batch 1 / 10 with 4517 images...\n"
     ]
    },
    {
     "name": "stderr",
     "output_type": "stream",
     "text": [
      "/usr/local/lib/python3.11/dist-packages/numpy/core/fromnumeric.py:59: FutureWarning: 'DataFrame.swapaxes' is deprecated and will be removed in a future version. Please use 'DataFrame.transpose' instead.\n",
      "  return bound(*args, **kwds)\n"
     ]
    },
    {
     "name": "stdout",
     "output_type": "stream",
     "text": [
      "Batch 1 took 888.20 seconds.\n",
      "Processing batch 2 / 10 with 4516 images...\n",
      "Batch 2 took 854.33 seconds.\n",
      "Processing batch 3 / 10 with 4516 images...\n",
      "Batch 3 took 472.21 seconds.\n",
      "Processing batch 4 / 10 with 4516 images...\n",
      "Batch 4 took 585.05 seconds.\n",
      "Processing batch 5 / 10 with 4516 images...\n",
      "Batch 5 took 872.36 seconds.\n",
      "Processing batch 6 / 10 with 4516 images...\n",
      "Batch 6 took 861.58 seconds.\n",
      "Processing batch 7 / 10 with 4516 images...\n",
      "Batch 7 took 495.43 seconds.\n",
      "Processing batch 8 / 10 with 4516 images...\n",
      "Batch 8 took 451.63 seconds.\n",
      "Processing batch 9 / 10 with 4516 images...\n",
      "Batch 9 took 523.07 seconds.\n",
      "Processing batch 10 / 10 with 4516 images...\n",
      "Batch 10 took 726.12 seconds.\n",
      "45161 Images Downloaded and Resized\n",
      "CPU times: user 2h 30min 56s, sys: 18min 53s, total: 2h 49min 49s\n",
      "Wall time: 1h 52min 10s\n"
     ]
    }
   ],
   "source": [
    "%%time\n",
    "# Create a directory to save the images\n",
    "output_root.mkdir(exist_ok=True)\n",
    "path = Path('images')\n",
    "path.mkdir(exist_ok=True)\n",
    "\n",
    "# Create a tool for resizing so cropping top and bottom can happen while keeping the aspect ratio\n",
    "def resize_to_height(image, target_height=256):\n",
    "    og_width, og_height = image.size\n",
    "    new_width = int(og_width * (target_height / og_height))\n",
    "    return image.resize((new_width, target_height))\n",
    "\n",
    "# Create a tool for downloading and processing images\n",
    "def process_row(row, dest_folder):\n",
    "    url = row['publicURL']\n",
    "    filename = row['imageName']\n",
    "    # Download the image\n",
    "    dest = dest_folder/filename\n",
    "\n",
    "    try:\n",
    "        # Download image to memory\n",
    "        response = requests.get(url)\n",
    "        response.raise_for_status()\n",
    "\n",
    "        # Open and process the image\n",
    "        image = Image.open(BytesIO(response.content)).convert(\"RGB\")\n",
    "        image = resize_to_height(image, target_height=256)\n",
    "        image.save(dest, format=\"JPEG\", quality=85)\n",
    "        \n",
    "    except Exception as e:\n",
    "        print(f\"failed to process{filename}: {e}\")\n",
    "\n",
    "# Download and display some images where at least an animal was found - ex rat\n",
    "df_test = df[44410:44910] # 500 images with some known animal detections\n",
    "df_big_chunk = df[0:10000] # first 10000 images\n",
    "df_bigger_chunk = df[10001:60001] # second 50k\n",
    "df_remaining = df[60002:] # last bit\n",
    "\n",
    "# Process Batches\n",
    "for batch_idx, df_chunk in enumerate(np.array_split(df_remaining, num_batches)): # change to df_test to split a test batch size\n",
    "    batch_folder = images_root / f'batch_{batch_idx}'\n",
    "    batch_folder.mkdir(exist_ok=True)\n",
    "\n",
    "    print(f'Processing batch {batch_idx + 1} / {num_batches} with {len(df_chunk)} images...')\n",
    "\n",
    "    start = time.time()\n",
    "    \n",
    "    with ThreadPoolExecutor(max_workers=max_threads) as executor:\n",
    "        executor.map(lambda row: process_row(row, batch_folder), [row for _, row in df_chunk.iterrows()])\n",
    "\n",
    "    end = time.time()\n",
    "    print(f\"Batch {batch_idx+1} took {end - start:.2f} seconds.\")\n",
    "        \n",
    "print(f'{len(df_remaining)} Images Downloaded and Resized')"
   ]
  },
  {
   "cell_type": "code",
   "execution_count": 7,
   "id": "9c2b4f96",
   "metadata": {
    "execution": {
     "iopub.execute_input": "2025-05-24T02:48:11.359126Z",
     "iopub.status.busy": "2025-05-24T02:48:11.358852Z",
     "iopub.status.idle": "2025-05-24T02:48:11.362394Z",
     "shell.execute_reply": "2025-05-24T02:48:11.361648Z"
    },
    "papermill": {
     "duration": 0.030658,
     "end_time": "2025-05-24T02:48:11.363638",
     "exception": false,
     "start_time": "2025-05-24T02:48:11.332980",
     "status": "completed"
    },
    "tags": []
   },
   "outputs": [],
   "source": [
    "# Uncomment and run this if the images need to be redone\n",
    "# !rm images -r\n",
    "# !rm docs.zip\n",
    "# %lsmagic"
   ]
  },
  {
   "cell_type": "markdown",
   "id": "b18a2f19",
   "metadata": {
    "papermill": {
     "duration": 0.023879,
     "end_time": "2025-05-24T02:48:11.412371",
     "exception": false,
     "start_time": "2025-05-24T02:48:11.388492",
     "status": "completed"
    },
    "tags": []
   },
   "source": [
    "## Running Species Net on the Full Dataset\n",
    "Now that we have the max number of images downloaded (19.5GB) let's run speciesnet\n",
    "\n",
    "Note there might be a better way of doing this using bytes downloaded from s3 - but I haven't figured that part out yet.\n",
    "\n",
    "### We're going to try a multithreading chunks approach"
   ]
  },
  {
   "cell_type": "code",
   "execution_count": 8,
   "id": "8d55fc5f",
   "metadata": {
    "execution": {
     "iopub.execute_input": "2025-05-24T02:48:11.461941Z",
     "iopub.status.busy": "2025-05-24T02:48:11.461669Z",
     "iopub.status.idle": "2025-05-24T02:48:11.465814Z",
     "shell.execute_reply": "2025-05-24T02:48:11.465102Z"
    },
    "papermill": {
     "duration": 0.030084,
     "end_time": "2025-05-24T02:48:11.466895",
     "exception": false,
     "start_time": "2025-05-24T02:48:11.436811",
     "status": "completed"
    },
    "tags": []
   },
   "outputs": [],
   "source": [
    "def print_predictions(predictions_dict: dict) -> None:\n",
    "    print(\"Predictions:\")\n",
    "    for prediction in predictions_dict[\"predictions\"][0:1]:\n",
    "        print(prediction[\"filepath\"], \"=>\", prediction[\"prediction\"])"
   ]
  },
  {
   "cell_type": "markdown",
   "id": "54bc907c",
   "metadata": {
    "papermill": {
     "duration": 0.023915,
     "end_time": "2025-05-24T02:48:11.514843",
     "exception": false,
     "start_time": "2025-05-24T02:48:11.490928",
     "status": "completed"
    },
    "tags": []
   },
   "source": [
    "### Download Model"
   ]
  },
  {
   "cell_type": "code",
   "execution_count": 9,
   "id": "f6fe812c",
   "metadata": {
    "execution": {
     "iopub.execute_input": "2025-05-24T02:48:11.563518Z",
     "iopub.status.busy": "2025-05-24T02:48:11.563204Z",
     "iopub.status.idle": "2025-05-24T02:48:15.177529Z",
     "shell.execute_reply": "2025-05-24T02:48:15.176689Z"
    },
    "papermill": {
     "duration": 3.640296,
     "end_time": "2025-05-24T02:48:15.178780",
     "exception": false,
     "start_time": "2025-05-24T02:48:11.538484",
     "status": "completed"
    },
    "tags": []
   },
   "outputs": [
    {
     "name": "stdout",
     "output_type": "stream",
     "text": [
      "Model downloaded to temporary folder: /kaggle/input/speciesnet/pytorch/v4.0.1a/1\n",
      "6 files copied to: /content/models\n"
     ]
    }
   ],
   "source": [
    "# Choose the folder we're going to download the model to\n",
    "model_path = '/content/models'\n",
    "os.makedirs(model_path, exist_ok=True)\n",
    "\n",
    "# Download the model (it will go to a folder like /kaggle/input/...)\n",
    "download_path = kagglehub.model_download('google/speciesnet/PyTorch/v4.0.1a',\n",
    "                                          force_download=True)\n",
    "\n",
    "print('Model downloaded to temporary folder: {}'.format(download_path))\n",
    "\n",
    "# List the contents of the downloaded directory to identify the actual files/subdirectories\n",
    "model_files = os.listdir(download_path)\n",
    "\n",
    "# Copy the contents of the model file to our destination folder\n",
    "for item_name in model_files:\n",
    "    source_path = os.path.join(download_path, item_name)\n",
    "    destination_path = os.path.join(model_path, item_name)\n",
    "    if os.path.isfile(source_path):\n",
    "        shutil.copy2(source_path, destination_path)\n",
    "    elif os.path.isdir(source_path):\n",
    "        shutil.copytree(source_path, destination_path, dirs_exist_ok=True)\n",
    "\n",
    "print('{} files copied to: {}'.format(len(model_files),model_path))"
   ]
  },
  {
   "cell_type": "code",
   "execution_count": 10,
   "id": "d2ca1020",
   "metadata": {
    "execution": {
     "iopub.execute_input": "2025-05-24T02:48:15.296762Z",
     "iopub.status.busy": "2025-05-24T02:48:15.296477Z",
     "iopub.status.idle": "2025-05-24T02:48:25.084167Z",
     "shell.execute_reply": "2025-05-24T02:48:25.083513Z"
    },
    "papermill": {
     "duration": 9.882295,
     "end_time": "2025-05-24T02:48:25.085516",
     "exception": false,
     "start_time": "2025-05-24T02:48:15.203221",
     "status": "completed"
    },
    "tags": []
   },
   "outputs": [
    {
     "name": "stdout",
     "output_type": "stream",
     "text": [
      "Model Loaded\n"
     ]
    }
   ],
   "source": [
    "# Pick the model we want to use (4.0.1a)\n",
    "model = SpeciesNet(model_path)\n",
    "\n",
    "print('Model Loaded')"
   ]
  },
  {
   "cell_type": "code",
   "execution_count": 11,
   "id": "c46b80d8",
   "metadata": {
    "execution": {
     "iopub.execute_input": "2025-05-24T02:48:25.137580Z",
     "iopub.status.busy": "2025-05-24T02:48:25.137317Z",
     "iopub.status.idle": "2025-05-24T04:09:11.193406Z",
     "shell.execute_reply": "2025-05-24T04:09:11.192721Z"
    },
    "papermill": {
     "duration": 4846.083074,
     "end_time": "2025-05-24T04:09:11.194664",
     "exception": false,
     "start_time": "2025-05-24T02:48:25.111590",
     "status": "completed"
    },
    "tags": []
   },
   "outputs": [
    {
     "name": "stdout",
     "output_type": "stream",
     "text": [
      "{'filepath': 'images/batch_0/2024-06-27_UR011--SYFW3772.JPG', 'latitude': 41.906782, 'longitude': -87.651927}\n",
      "CPU times: user 17min 7s, sys: 9.07 s, total: 17min 16s\n",
      "Wall time: 8min 53s\n",
      "Predictions:\n",
      "images/batch_0/2024-06-27_UR011--SYFW3772.JPG => b1352069-a39c-4a84-a949-60044271c0c1;aves;;;;;bird\n",
      "predictions_dict_0.json saved to images/batch_0\n",
      "{'filepath': 'images/batch_1/2024-06-27_UR011--SYFW9184.JPG', 'latitude': 41.906782, 'longitude': -87.651927}\n",
      "CPU times: user 16min 50s, sys: 11.9 s, total: 17min 2s\n",
      "Wall time: 8min 40s\n",
      "Predictions:\n",
      "images/batch_1/2024-06-27_UR011--SYFW9184.JPG => f2efdae9-efb8-48fb-8a91-eccf79ab4ffb;no cv result;no cv result;no cv result;no cv result;no cv result;no cv result\n",
      "predictions_dict_1.json saved to images/batch_1\n",
      "{'filepath': 'images/batch_2/2024-07-20_WM_Boardwalk_G_UR004--PICT0351.JPG', 'latitude': 41.906782, 'longitude': -87.651927}\n",
      "CPU times: user 15min 12s, sys: 8.37 s, total: 15min 20s\n",
      "Wall time: 7min 26s\n",
      "Predictions:\n",
      "images/batch_2/2024-07-20_WM_Boardwalk_G_UR004--PICT0351.JPG => f2efdae9-efb8-48fb-8a91-eccf79ab4ffb;no cv result;no cv result;no cv result;no cv result;no cv result;no cv result\n",
      "predictions_dict_2.json saved to images/batch_2\n",
      "{'filepath': 'images/batch_3/2024-08-17_UR016--PICT0049.JPG', 'latitude': 41.906782, 'longitude': -87.651927}\n",
      "CPU times: user 16min 14s, sys: 7.26 s, total: 16min 22s\n",
      "Wall time: 7min 54s\n",
      "Predictions:\n",
      "images/batch_3/2024-08-17_UR016--PICT0049.JPG => 990ae9dd-7a59-4344-afcb-1b7b21368000;mammalia;primates;hominidae;homo;sapiens;human\n",
      "predictions_dict_3.json saved to images/batch_3\n",
      "{'filepath': 'images/batch_4/2024-09-08_UR011--SYFW1247.JPG', 'latitude': 41.906782, 'longitude': -87.651927}\n",
      "CPU times: user 17min 57s, sys: 7.02 s, total: 18min 4s\n",
      "Wall time: 8min 44s\n",
      "Predictions:\n",
      "images/batch_4/2024-09-08_UR011--SYFW1247.JPG => f1856211-cfb7-4a5b-9158-c0f72fd09ee6;;;;;;blank\n",
      "predictions_dict_4.json saved to images/batch_4\n",
      "{'filepath': 'images/batch_5/2024-09-08_prologis--SYEW5465.JPG', 'latitude': 41.906782, 'longitude': -87.651927}\n",
      "CPU times: user 16min 50s, sys: 1min 3s, total: 17min 53s\n",
      "Wall time: 8min 54s\n",
      "Predictions:\n",
      "images/batch_5/2024-09-08_prologis--SYEW5465.JPG => f1856211-cfb7-4a5b-9158-c0f72fd09ee6;;;;;;blank\n",
      "predictions_dict_5.json saved to images/batch_5\n",
      "{'filepath': 'images/batch_6/2024-09-14_UR008--PICT0192.JPG', 'latitude': 41.906782, 'longitude': -87.651927}\n",
      "CPU times: user 15min 33s, sys: 7.55 s, total: 15min 41s\n",
      "Wall time: 7min 34s\n",
      "Predictions:\n",
      "images/batch_6/2024-09-14_UR008--PICT0192.JPG => f1856211-cfb7-4a5b-9158-c0f72fd09ee6;;;;;;blank\n",
      "predictions_dict_6.json saved to images/batch_6\n",
      "{'filepath': 'images/batch_7/2024-10-19_UR004--PICT0833.JPG', 'latitude': 41.906782, 'longitude': -87.651927}\n",
      "CPU times: user 14min 54s, sys: 8.82 s, total: 15min 3s\n",
      "Wall time: 7min 20s\n",
      "Predictions:\n",
      "images/batch_7/2024-10-19_UR004--PICT0833.JPG => 990ae9dd-7a59-4344-afcb-1b7b21368000;mammalia;primates;hominidae;homo;sapiens;human\n",
      "predictions_dict_7.json saved to images/batch_7\n",
      "{'filepath': 'images/batch_8/2024-11-03_UR013--PICT1609.JPG', 'latitude': 41.906782, 'longitude': -87.651927}\n",
      "CPU times: user 15min, sys: 7.91 s, total: 15min 8s\n",
      "Wall time: 7min 18s\n",
      "Predictions:\n",
      "images/batch_8/2024-11-03_UR013--PICT1609.JPG => f1856211-cfb7-4a5b-9158-c0f72fd09ee6;;;;;;blank\n",
      "predictions_dict_8.json saved to images/batch_8\n",
      "{'filepath': 'images/batch_9/2024-11-21_UR011--SYFW2093.JPG', 'latitude': 41.906782, 'longitude': -87.651927}\n",
      "CPU times: user 16min 14s, sys: 7.81 s, total: 16min 22s\n",
      "Wall time: 7min 55s\n",
      "Predictions:\n",
      "images/batch_9/2024-11-21_UR011--SYFW2093.JPG => f1856211-cfb7-4a5b-9158-c0f72fd09ee6;;;;;;blank\n",
      "predictions_dict_9.json saved to images/batch_9\n"
     ]
    }
   ],
   "source": [
    "# Let's format a request string as a list of dicts (aka JSON string format)\n",
    "def create_instances(batch_folder):\n",
    "    image_paths = [f'{batch_folder}/{f}' for f in os.listdir(batch_folder) if f.lower().endswith('.jpg')]\n",
    "\n",
    "    instances = []\n",
    "    for image_path in image_paths:\n",
    "        instances.append({\n",
    "            'filepath': image_path,\n",
    "            'latitude': 41.906782,\n",
    "            'longitude': -87.651927\n",
    "        })\n",
    "\n",
    "    # Check that it's saved correctly by verifying the first\n",
    "    print(instances[0])\n",
    "\n",
    "    return instances\n",
    "\n",
    "\n",
    "for batch_index in range(len(os.listdir(images_root))):\n",
    "    instances = create_instances(f'{images_root}/batch_{batch_index}')\n",
    "\n",
    "    # make the predictions and get a sense of how long it would take\n",
    "    %time predictions_dict = model.predict(instances_dict={\"instances\": instances})\n",
    "\n",
    "    print_predictions(predictions_dict) # show the first prediction of each batch\n",
    "\n",
    "    # Save the dict to the batch folder\n",
    "    with open(f'{images_root}/batch_{batch_index}/predictions_dict_{batch_index}.json', 'w') as f:\n",
    "        json.dump(predictions_dict, f, indent=2)\n",
    "\n",
    "    print(f'predictions_dict_{batch_index}.json saved to {images_root}/batch_{batch_index}')"
   ]
  },
  {
   "cell_type": "code",
   "execution_count": 12,
   "id": "5d1df132",
   "metadata": {
    "execution": {
     "iopub.execute_input": "2025-05-24T04:09:11.246372Z",
     "iopub.status.busy": "2025-05-24T04:09:11.245758Z",
     "iopub.status.idle": "2025-05-24T04:09:15.754082Z",
     "shell.execute_reply": "2025-05-24T04:09:15.753223Z"
    },
    "papermill": {
     "duration": 4.535514,
     "end_time": "2025-05-24T04:09:15.755304",
     "exception": false,
     "start_time": "2025-05-24T04:09:11.219790",
     "status": "completed"
    },
    "tags": []
   },
   "outputs": [
    {
     "name": "stdout",
     "output_type": "stream",
     "text": [
      "Combined 45147 predictions into output/predictions_dict_master.json\n"
     ]
    }
   ],
   "source": [
    "# To concatenate all the json files\n",
    "output_file = output_root / \"predictions_dict_master.json\"\n",
    "\n",
    "# Initialize the master predictions list\n",
    "master_predictions = []\n",
    "\n",
    "# Loop through files matching the pattern\n",
    "for json_file in sorted(images_root.glob(\"batch_*/predictions_dict_*.json\")):\n",
    "    with open(json_file, \"r\") as f:\n",
    "        data = json.load(f)\n",
    "        if \"predictions\" in data:\n",
    "            master_predictions.extend(data[\"predictions\"])  # Concatenate predictions!\n",
    "        else:\n",
    "            print(f\"{json_file} missing 'predictions' key\")\n",
    "\n",
    "# Write the combined predictions to a new file\n",
    "with open(output_file, \"w\") as f:\n",
    "    json.dump({\"predictions\": master_predictions}, f, indent=2)\n",
    "\n",
    "print(f\"Combined {len(master_predictions)} predictions into {output_file}\")\n"
   ]
  },
  {
   "cell_type": "markdown",
   "id": "07bc001e",
   "metadata": {
    "papermill": {
     "duration": 0.025813,
     "end_time": "2025-05-24T04:09:15.806887",
     "exception": false,
     "start_time": "2025-05-24T04:09:15.781074",
     "status": "completed"
    },
    "tags": []
   },
   "source": [
    "## Let's save the predictions dict json file"
   ]
  },
  {
   "cell_type": "code",
   "execution_count": 13,
   "id": "04fcd2b5",
   "metadata": {
    "execution": {
     "iopub.execute_input": "2025-05-24T04:09:15.860130Z",
     "iopub.status.busy": "2025-05-24T04:09:15.859888Z",
     "iopub.status.idle": "2025-05-24T04:10:09.051032Z",
     "shell.execute_reply": "2025-05-24T04:10:09.050293Z"
    },
    "papermill": {
     "duration": 53.21929,
     "end_time": "2025-05-24T04:10:09.052624",
     "exception": false,
     "start_time": "2025-05-24T04:09:15.833334",
     "status": "completed"
    },
    "tags": []
   },
   "outputs": [
    {
     "name": "stdout",
     "output_type": "stream",
     "text": [
      "Loading results from /kaggle/working/output/predictions_dict_master.json\r\n",
      "This appears to be a SpeciesNet output file, converting to MD format\r\n",
      "Writing temporary results to /tmp/megadetector_temp_files/dd4d5218-3854-11f0-937b-0242ac130202.json\r\n",
      "Warning: creating fake detection for non-blank whole-image classification\r\n",
      "Warning: creating fake detection for non-blank whole-image classification\r\n",
      "Warning: creating fake detection for non-blank whole-image classification\r\n",
      "Warning: creating fake detection for non-blank whole-image classification\r\n",
      "Converting results to dataframe\r\n",
      "Finished loading MegaDetector results for 45147 images from /kaggle/working/output/predictions_dict_master.json\r\n",
      "Assigning images to rendering categories\r\n",
      "100%|██████████████████████████████████| 45147/45147 [00:01<00:00, 27803.23it/s]\r\n",
      "Finished loading and preprocessing 45147 rows from detector output, predicted 13939 positives.\r\n",
      "100%|███████████████████████████████████████| 2000/2000 [00:28<00:00, 71.30it/s]\r\n",
      "Rendered 2000 images (of 2000) in 28.05 seconds (0.01 seconds per image)\r\n",
      "Generating classification category report\r\n",
      "This appears to be a SpeciesNet output file, converting to MD format\r\n",
      "Writing temporary results to /tmp/megadetector_temp_files/f570af52-3854-11f0-937b-0242ac130202.json\r\n",
      "Warning: creating fake detection for non-blank whole-image classification\r\n",
      "Warning: creating fake detection for non-blank whole-image classification\r\n",
      "Warning: creating fake detection for non-blank whole-image classification\r\n",
      "Warning: creating fake detection for non-blank whole-image classification\r\n",
      "Finished writing html to /kaggle/working/output/docs/index.html\r\n"
     ]
    }
   ],
   "source": [
    "# Create a docs folder for previewing the images\n",
    "output_path = '/kaggle/working/output/docs'\n",
    "os.makedirs(output_path, exist_ok=True)\n",
    "\n",
    "# change n to sample to -1 for all\n",
    "!python -m megadetector.postprocessing.postprocess_batch_results /kaggle/working/output/predictions_dict_master.json /kaggle/working/output/docs --num_images_to_sample 2000 --confidence_threshold 0.5"
   ]
  },
  {
   "cell_type": "markdown",
   "id": "33bb6d2d",
   "metadata": {
    "papermill": {
     "duration": 0.035786,
     "end_time": "2025-05-24T04:10:09.125378",
     "exception": false,
     "start_time": "2025-05-24T04:10:09.089592",
     "status": "completed"
    },
    "tags": []
   },
   "source": [
    "## Let's zip the folder so we can easily download it"
   ]
  },
  {
   "cell_type": "code",
   "execution_count": 14,
   "id": "5eddfb1a",
   "metadata": {
    "execution": {
     "iopub.execute_input": "2025-05-24T04:10:09.198417Z",
     "iopub.status.busy": "2025-05-24T04:10:09.197743Z",
     "iopub.status.idle": "2025-05-24T04:10:13.744150Z",
     "shell.execute_reply": "2025-05-24T04:10:13.743416Z"
    },
    "papermill": {
     "duration": 4.584507,
     "end_time": "2025-05-24T04:10:13.745569",
     "exception": false,
     "start_time": "2025-05-24T04:10:09.161062",
     "status": "completed"
    },
    "tags": []
   },
   "outputs": [],
   "source": [
    "shutil.make_archive('/kaggle/working/output/docs', 'zip', '/kaggle/working/output/docs')\n",
    "\n",
    "# and finally clean up the tree that made it this far\n",
    "shutil.rmtree('/kaggle/working/output/docs')  # Deletes the folder\n"
   ]
  }
 ],
 "metadata": {
  "kaggle": {
   "accelerator": "gpu",
   "dataSources": [
    {
     "modelId": 247762,
     "modelInstanceId": 291118,
     "sourceId": 348614,
     "sourceType": "modelInstanceVersion"
    }
   ],
   "isGpuEnabled": true,
   "isInternetEnabled": true,
   "language": "python",
   "sourceType": "notebook"
  },
  "kernelspec": {
   "display_name": "Python 3",
   "language": "python",
   "name": "python3"
  },
  "language_info": {
   "codemirror_mode": {
    "name": "ipython",
    "version": 3
   },
   "file_extension": ".py",
   "mimetype": "text/x-python",
   "name": "python",
   "nbconvert_exporter": "python",
   "pygments_lexer": "ipython3",
   "version": "3.11.11"
  },
  "papermill": {
   "default_parameters": {},
   "duration": 11838.115907,
   "end_time": "2025-05-24T04:10:17.514739",
   "environment_variables": {},
   "exception": null,
   "input_path": "__notebook__.ipynb",
   "output_path": "__notebook__.ipynb",
   "parameters": {},
   "start_time": "2025-05-24T00:52:59.398832",
   "version": "2.6.0"
  }
 },
 "nbformat": 4,
 "nbformat_minor": 5
}
